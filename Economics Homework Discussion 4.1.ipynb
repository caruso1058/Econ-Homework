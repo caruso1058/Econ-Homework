{
 "cells": [
  {
   "cell_type": "markdown",
   "metadata": {},
   "source": [
    "# Value of A Firm Based on R&D Expenditures Discussion\n",
    "The following is linear regression exercise bases on Illustration 4.1"
   ]
  },
  {
   "cell_type": "code",
   "execution_count": 1,
   "metadata": {},
   "outputs": [],
   "source": [
    "import seaborn as sns\n",
    "import matplotlib.pyplot as plt\n",
    "import numpy as np\n",
    "import pandas as pd"
   ]
  },
  {
   "cell_type": "code",
   "execution_count": 62,
   "metadata": {},
   "outputs": [],
   "source": [
    "#Based on the graph in Illistration 4.1, I esitmated the X and Y values on the graph \n",
    "#Once the values were estimated I created Varaible lists to represent the R&D Expense and Earnings Return (ROI)\n",
    "RD_Expense = ([.5,.67,1,2.3,2.5,3,3.3,3.75,4,4.67,5.5,6,6.1,6.5,7,8.33,8.5,8.75,9.25,9.5])\n",
    "ROI = ([5.8,7,8,6,6,6.25,10,8.1,10,8.2,13,8.2,11,7,11,13,13.1,11.1,9.8,16])"
   ]
  },
  {
   "cell_type": "code",
   "execution_count": 63,
   "metadata": {},
   "outputs": [
    {
     "name": "stdout",
     "output_type": "stream",
     "text": [
      "0.5 0.67 1 2.3 2.5 3 3.3 3.75 4 4.67 5.5 6 6.1 6.5 7 8.33 8.5 8.75 9.25 9.5\n",
      "5.8 7 8 6 6 6.25 10 8.1 10 8.2 13 8.2 11 7 11 13 13.1 11.1 9.8 16\n"
     ]
    }
   ],
   "source": [
    "#The following is a print out to indicate the values associated with each varibale\n",
    "print(*RD_Expense)\n",
    "print(*ROI)"
   ]
  },
  {
   "cell_type": "code",
   "execution_count": 89,
   "metadata": {},
   "outputs": [
    {
     "name": "stdout",
     "output_type": "stream",
     "text": [
      "    RD_Expenditures  Price_to_Earnings_Return\n",
      "0              0.50                      5.80\n",
      "1              0.67                      7.00\n",
      "2              1.00                      8.00\n",
      "3              2.30                      6.00\n",
      "4              2.50                      6.00\n",
      "5              3.00                      6.25\n",
      "6              3.30                     10.00\n",
      "7              3.75                      8.10\n",
      "8              4.00                     10.00\n",
      "9              4.67                      8.20\n",
      "10             5.50                     13.00\n",
      "11             6.00                      8.20\n",
      "12             6.10                     11.00\n",
      "13             6.50                      7.00\n",
      "14             7.00                     11.00\n",
      "15             8.33                     13.00\n",
      "16             8.50                     13.10\n",
      "17             8.75                     11.10\n",
      "18             9.25                      9.80\n",
      "19             9.50                     16.00\n"
     ]
    }
   ],
   "source": [
    "#NExt I cerated a DataFrame (think Excel Spreadsheet) from the data points so the data woulsd be easier to work with\n",
    "#When a Pandas DataFrame is created, the DataFrame creates number values for each record.\n",
    "\n",
    "DataFrame = pd.DataFrame({'RD_Expenditures':RD_Expense, \"Price_to_Earnings_Return\": ROI})\n",
    "print(DataFrame)"
   ]
  },
  {
   "cell_type": "code",
   "execution_count": 90,
   "metadata": {},
   "outputs": [
    {
     "data": {
      "text/plain": [
       "<matplotlib.axes._subplots.AxesSubplot at 0x5ca0bf0>"
      ]
     },
     "execution_count": 90,
     "metadata": {},
     "output_type": "execute_result"
    },
    {
     "data": {
      "image/png": "[encoded data removed]",
      "text/plain": [
       "<Figure size 432x288 with 1 Axes>"
      ]
     },
     "metadata": {
      "needs_background": "light"
     },
     "output_type": "display_data"
    }
   ],
   "source": [
    "#Next I plotted the data to indicate that my inputs match the data in the book\n",
    "\n",
    "DataFrame.plot(x='RD_Expenditures', y='Price_to_Earnings_Return', style='o' )"
   ]
  },
  {
   "cell_type": "code",
   "execution_count": 141,
   "metadata": {},
   "outputs": [],
   "source": [
    "#Import the linear regression library \n",
    "\n",
    "from sklearn.linear_model import LinearRegression\n",
    "from sklearn import metrics"
   ]
  },
  {
   "cell_type": "code",
   "execution_count": 142,
   "metadata": {},
   "outputs": [],
   "source": [
    "#Then I renamed the cloumn names into X and y varaibles so they would be easier to work with\n",
    "\n",
    "X = DataFrame['RD_Expenditures'].values.reshape(-1,1)\n",
    "y = DataFrame['Price_to_Earnings_Return'].values.reshape(-1,1)"
   ]
  },
  {
   "cell_type": "code",
   "execution_count": 189,
   "metadata": {},
   "outputs": [],
   "source": [
    "#Next I split the data into train and test sets\n",
    "#We will use 80% of the data points (16 data points) to test our predicted regression\n",
    "\n",
    "from sklearn.model_selection import train_test_split\n",
    "X_train, X_test, y_train, y_test = train_test_split(X, y, \n",
    "                                                     test_size=.2)"
   ]
  },
  {
   "cell_type": "code",
   "execution_count": 190,
   "metadata": {},
   "outputs": [
    {
     "data": {
      "text/plain": [
       "LinearRegression(copy_X=True, fit_intercept=True, n_jobs=None,\n",
       "         normalize=False)"
      ]
     },
     "execution_count": 190,
     "metadata": {},
     "output_type": "execute_result"
    }
   ],
   "source": [
    "#This code runs the regression on our 16 data points\n",
    "\n",
    "regressor = LinearRegression()\n",
    "regressor.fit(X_train,y_train)"
   ]
  },
  {
   "cell_type": "code",
   "execution_count": 191,
   "metadata": {},
   "outputs": [
    {
     "name": "stdout",
     "output_type": "stream",
     "text": [
      "[5.61052996]\n",
      "[[0.70922782]]\n"
     ]
    }
   ],
   "source": [
    "#Based on the algorith the y intercept is 5.6\n",
    "#This mirrors the book's data set as the blue line in Illustration 4.1 also has the Y intercept just below 6\n",
    "#The second number (~.71) indicates that the line move in the positive direction as also indicated in Illustration 4.1\n",
    "#The Regession Coefficient here indicates that for every one unit of change in the R&D Expenditures -- The firms earnings \n",
    "#increse by .71\n",
    "\n",
    "print(regressor.intercept_)\n",
    "print(regressor.coef_)"
   ]
  },
  {
   "cell_type": "code",
   "execution_count": 192,
   "metadata": {},
   "outputs": [],
   "source": [
    "#The above shows that for every one unit of change in R&D expenditures the change in Earnigns is .7%-.75%"
   ]
  },
  {
   "cell_type": "code",
   "execution_count": 193,
   "metadata": {},
   "outputs": [],
   "source": [
    "y_pred = regressor.predict(X_test)"
   ]
  },
  {
   "cell_type": "code",
   "execution_count": 200,
   "metadata": {},
   "outputs": [
    {
     "data": {
      "text/html": [
       "<div>\n",
       "<style scoped>\n",
       "    .dataframe tbody tr th:only-of-type {\n",
       "        vertical-align: middle;\n",
       "    }\n",
       "\n",
       "    .dataframe tbody tr th {\n",
       "        vertical-align: top;\n",
       "    }\n",
       "\n",
       "    .dataframe thead th {\n",
       "        text-align: right;\n",
       "    }\n",
       "</style>\n",
       "<table border=\"1\" class=\"dataframe\">\n",
       "  <thead>\n",
       "    <tr style=\"text-align: right;\">\n",
       "      <th></th>\n",
       "      <th>Actual</th>\n",
       "      <th>Predicted</th>\n",
       "    </tr>\n",
       "  </thead>\n",
       "  <tbody>\n",
       "    <tr>\n",
       "      <th>0</th>\n",
       "      <td>13.1</td>\n",
       "      <td>11.638966</td>\n",
       "    </tr>\n",
       "    <tr>\n",
       "      <th>1</th>\n",
       "      <td>13.0</td>\n",
       "      <td>9.511283</td>\n",
       "    </tr>\n",
       "    <tr>\n",
       "      <th>2</th>\n",
       "      <td>6.0</td>\n",
       "      <td>7.241754</td>\n",
       "    </tr>\n",
       "    <tr>\n",
       "      <th>3</th>\n",
       "      <td>7.0</td>\n",
       "      <td>6.085713</td>\n",
       "    </tr>\n",
       "  </tbody>\n",
       "</table>\n",
       "</div>"
      ],
      "text/plain": [
       "   Actual  Predicted\n",
       "0    13.1  11.638966\n",
       "1    13.0   9.511283\n",
       "2     6.0   7.241754\n",
       "3     7.0   6.085713"
      ]
     },
     "execution_count": 200,
     "metadata": {},
     "output_type": "execute_result"
    }
   ],
   "source": [
    "#The prediction below indicates that for the remaining 4 data points that we have not run through our training model we\n",
    "#can see how well our model has predicted their values based on the previously trained 16 data points\n",
    "#We can see that our model is pretty acurate in guessing the value of the data points based on the linear regression line\n",
    "df = pd.DataFrame({\"Actual\": y_test.flatten(), 'Predicted': y_pred.flatten()})\n",
    "df"
   ]
  },
  {
   "cell_type": "code",
   "execution_count": 201,
   "metadata": {},
   "outputs": [
    {
     "data": {
      "image/png": "[encoded data removed]",
      "text/plain": [
       "<Figure size 432x288 with 1 Axes>"
      ]
     },
     "metadata": {
      "needs_background": "light"
     },
     "output_type": "display_data"
    }
   ],
   "source": [
    "#Here is a print out of the linear regression line based on the 16 data points we trained the model with\n",
    "\n",
    "#TRAINING SET\n",
    "plt.scatter(X_train, y_train, color='gray')\n",
    "plt.plot(X_test, y_pred, color='red')\n",
    "plt.xlabel(\"R&D Expenditure as % of Sales\")\n",
    "plt.ylabel(\"Price to Earnings Ratio\")\n",
    "plt.show()\n"
   ]
  },
  {
   "cell_type": "code",
   "execution_count": 202,
   "metadata": {},
   "outputs": [
    {
     "data": {
      "image/png": "[encoded data removed]",
      "text/plain": [
       "<Figure size 432x288 with 1 Axes>"
      ]
     },
     "metadata": {
      "needs_background": "light"
     },
     "output_type": "display_data"
    }
   ],
   "source": [
    "#TESTING SET (PREDICTION)\n",
    "plt.scatter(X_test, y_test, color='gray')\n",
    "plt.plot(X_test, y_pred, color='red', linewidth=2)\n",
    "plt.xlabel(\"R&D Expenditure as % of Sales\")\n",
    "plt.ylabel(\"Price to Earnings Ratio\")\n",
    "plt.show()"
   ]
  },
  {
   "cell_type": "code",
   "execution_count": 197,
   "metadata": {},
   "outputs": [
    {
     "name": "stdout",
     "output_type": "stream",
     "text": [
      "Mean Absolute Error:  1.7764480015253172\n",
      "Mean Squared Error:  4.1709100507507575\n",
      "Root Mean Squared Error:  2.0422806003952436\n"
     ]
    }
   ],
   "source": [
    "print(\"Mean Absolute Error: \", metrics.mean_absolute_error(y_test, y_pred))\n",
    "print(\"Mean Squared Error: \", metrics.mean_squared_error(y_test, y_pred))\n",
    "print(\"Root Mean Squared Error: \", np.sqrt(metrics.mean_squared_error(y_test, y_pred)))"
   ]
  }
 ],
 "metadata": {
  "kernelspec": {
   "display_name": "Python 3",
   "language": "python",
   "name": "python3"
  },
  "language_info": {
   "codemirror_mode": {
    "name": "ipython",
    "version": 3
   },
   "file_extension": ".py",
   "mimetype": "text/x-python",
   "name": "python",
   "nbconvert_exporter": "python",
   "pygments_lexer": "ipython3",
   "version": "3.7.1"
  }
 },
 "nbformat": 4,
 "nbformat_minor": 2
}
